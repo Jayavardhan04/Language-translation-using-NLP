{
  "cells": [
    {
      "cell_type": "code",
      "execution_count": 2,
      "metadata": {
        "colab": {
          "base_uri": "https://localhost:8080/"
        },
        "id": "nBpqiZJSIngj",
        "outputId": "f038cbbf-e00a-4557-b671-de98da175fc5"
      },
      "outputs": [
        {
          "output_type": "stream",
          "name": "stdout",
          "text": [
            "Requirement already satisfied: deep_translator in /usr/local/lib/python3.10/dist-packages (1.11.4)\n",
            "Requirement already satisfied: beautifulsoup4<5.0.0,>=4.9.1 in /usr/local/lib/python3.10/dist-packages (from deep_translator) (4.12.3)\n",
            "Requirement already satisfied: requests<3.0.0,>=2.23.0 in /usr/local/lib/python3.10/dist-packages (from deep_translator) (2.32.3)\n",
            "Requirement already satisfied: soupsieve>1.2 in /usr/local/lib/python3.10/dist-packages (from beautifulsoup4<5.0.0,>=4.9.1->deep_translator) (2.6)\n",
            "Requirement already satisfied: charset-normalizer<4,>=2 in /usr/local/lib/python3.10/dist-packages (from requests<3.0.0,>=2.23.0->deep_translator) (3.4.0)\n",
            "Requirement already satisfied: idna<4,>=2.5 in /usr/local/lib/python3.10/dist-packages (from requests<3.0.0,>=2.23.0->deep_translator) (2.10)\n",
            "Requirement already satisfied: urllib3<3,>=1.21.1 in /usr/local/lib/python3.10/dist-packages (from requests<3.0.0,>=2.23.0->deep_translator) (2.2.3)\n",
            "Requirement already satisfied: certifi>=2017.4.17 in /usr/local/lib/python3.10/dist-packages (from requests<3.0.0,>=2.23.0->deep_translator) (2024.8.30)\n",
            "Requirement already satisfied: playsound in /usr/local/lib/python3.10/dist-packages (1.3.0)\n",
            "Requirement already satisfied: googletrans in /usr/local/lib/python3.10/dist-packages (3.0.0)\n",
            "Requirement already satisfied: gtts in /usr/local/lib/python3.10/dist-packages (2.5.4)\n",
            "Requirement already satisfied: httpx==0.13.3 in /usr/local/lib/python3.10/dist-packages (from googletrans) (0.13.3)\n",
            "Requirement already satisfied: certifi in /usr/local/lib/python3.10/dist-packages (from httpx==0.13.3->googletrans) (2024.8.30)\n",
            "Requirement already satisfied: hstspreload in /usr/local/lib/python3.10/dist-packages (from httpx==0.13.3->googletrans) (2024.11.1)\n",
            "Requirement already satisfied: sniffio in /usr/local/lib/python3.10/dist-packages (from httpx==0.13.3->googletrans) (1.3.1)\n",
            "Requirement already satisfied: chardet==3.* in /usr/local/lib/python3.10/dist-packages (from httpx==0.13.3->googletrans) (3.0.4)\n",
            "Requirement already satisfied: idna==2.* in /usr/local/lib/python3.10/dist-packages (from httpx==0.13.3->googletrans) (2.10)\n",
            "Requirement already satisfied: rfc3986<2,>=1.3 in /usr/local/lib/python3.10/dist-packages (from httpx==0.13.3->googletrans) (1.5.0)\n",
            "Requirement already satisfied: httpcore==0.9.* in /usr/local/lib/python3.10/dist-packages (from httpx==0.13.3->googletrans) (0.9.1)\n",
            "Requirement already satisfied: h11<0.10,>=0.8 in /usr/local/lib/python3.10/dist-packages (from httpcore==0.9.*->httpx==0.13.3->googletrans) (0.9.0)\n",
            "Requirement already satisfied: h2==3.* in /usr/local/lib/python3.10/dist-packages (from httpcore==0.9.*->httpx==0.13.3->googletrans) (3.2.0)\n",
            "Requirement already satisfied: hyperframe<6,>=5.2.0 in /usr/local/lib/python3.10/dist-packages (from h2==3.*->httpcore==0.9.*->httpx==0.13.3->googletrans) (5.2.0)\n",
            "Requirement already satisfied: hpack<4,>=3.0 in /usr/local/lib/python3.10/dist-packages (from h2==3.*->httpcore==0.9.*->httpx==0.13.3->googletrans) (3.0.0)\n",
            "Requirement already satisfied: requests<3,>=2.27 in /usr/local/lib/python3.10/dist-packages (from gtts) (2.32.3)\n",
            "Requirement already satisfied: click<8.2,>=7.1 in /usr/local/lib/python3.10/dist-packages (from gtts) (8.1.7)\n",
            "Requirement already satisfied: charset-normalizer<4,>=2 in /usr/local/lib/python3.10/dist-packages (from requests<3,>=2.27->gtts) (3.4.0)\n",
            "Requirement already satisfied: urllib3<3,>=1.21.1 in /usr/local/lib/python3.10/dist-packages (from requests<3,>=2.27->gtts) (2.2.3)\n"
          ]
        }
      ],
      "source": [
        "!pip install deep_translator\n",
        "!pip install playsound googletrans gtts # Install playsound, googletrans and gtts\n",
        "from googletrans import Translator, LANGUAGES\n",
        "from gtts import gTTS # Now this import should work\n",
        "import os\n",
        "import playsound"
      ]
    },
    {
      "cell_type": "code",
      "execution_count": 3,
      "metadata": {
        "id": "WK_jCslXOZFD",
        "colab": {
          "base_uri": "https://localhost:8080/"
        },
        "outputId": "be49eb13-41de-4327-8ce2-27cbca00181e"
      },
      "outputs": [
        {
          "output_type": "stream",
          "name": "stdout",
          "text": [
            "Available languages:\n",
            "af: afrikaans\n",
            "sq: albanian\n",
            "am: amharic\n",
            "ar: arabic\n",
            "hy: armenian\n",
            "az: azerbaijani\n",
            "eu: basque\n",
            "be: belarusian\n",
            "bn: bengali\n",
            "bs: bosnian\n",
            "bg: bulgarian\n",
            "ca: catalan\n",
            "ceb: cebuano\n",
            "ny: chichewa\n",
            "zh-cn: chinese (simplified)\n",
            "zh-tw: chinese (traditional)\n",
            "co: corsican\n",
            "hr: croatian\n",
            "cs: czech\n",
            "da: danish\n",
            "nl: dutch\n",
            "en: english\n",
            "eo: esperanto\n",
            "et: estonian\n",
            "tl: filipino\n",
            "fi: finnish\n",
            "fr: french\n",
            "fy: frisian\n",
            "gl: galician\n",
            "ka: georgian\n",
            "de: german\n",
            "el: greek\n",
            "gu: gujarati\n",
            "ht: haitian creole\n",
            "ha: hausa\n",
            "haw: hawaiian\n",
            "iw: hebrew\n",
            "he: hebrew\n",
            "hi: hindi\n",
            "hmn: hmong\n",
            "hu: hungarian\n",
            "is: icelandic\n",
            "ig: igbo\n",
            "id: indonesian\n",
            "ga: irish\n",
            "it: italian\n",
            "ja: japanese\n",
            "jw: javanese\n",
            "kn: kannada\n",
            "kk: kazakh\n",
            "km: khmer\n",
            "ko: korean\n",
            "ku: kurdish (kurmanji)\n",
            "ky: kyrgyz\n",
            "lo: lao\n",
            "la: latin\n",
            "lv: latvian\n",
            "lt: lithuanian\n",
            "lb: luxembourgish\n",
            "mk: macedonian\n",
            "mg: malagasy\n",
            "ms: malay\n",
            "ml: malayalam\n",
            "mt: maltese\n",
            "mi: maori\n",
            "mr: marathi\n",
            "mn: mongolian\n",
            "my: myanmar (burmese)\n",
            "ne: nepali\n",
            "no: norwegian\n",
            "or: odia\n",
            "ps: pashto\n",
            "fa: persian\n",
            "pl: polish\n",
            "pt: portuguese\n",
            "pa: punjabi\n",
            "ro: romanian\n",
            "ru: russian\n",
            "sm: samoan\n",
            "gd: scots gaelic\n",
            "sr: serbian\n",
            "st: sesotho\n",
            "sn: shona\n",
            "sd: sindhi\n",
            "si: sinhala\n",
            "sk: slovak\n",
            "sl: slovenian\n",
            "so: somali\n",
            "es: spanish\n",
            "su: sundanese\n",
            "sw: swahili\n",
            "sv: swedish\n",
            "tg: tajik\n",
            "ta: tamil\n",
            "te: telugu\n",
            "th: thai\n",
            "tr: turkish\n",
            "uk: ukrainian\n",
            "ur: urdu\n",
            "ug: uyghur\n",
            "uz: uzbek\n",
            "vi: vietnamese\n",
            "cy: welsh\n",
            "xh: xhosa\n",
            "yi: yiddish\n",
            "yo: yoruba\n",
            "zu: zulu\n"
          ]
        }
      ],
      "source": [
        "from googletrans import LANGUAGES\n",
        "\n",
        "def display_languages():\n",
        "    print(\"Available languages:\")\n",
        "    for lang_code, lang_name in LANGUAGES.items():\n",
        "        print(f\"{lang_code}: {lang_name}\")\n",
        "\n",
        "# Call the function\n",
        "display_languages()\n"
      ]
    },
    {
      "cell_type": "code",
      "execution_count": 6,
      "metadata": {
        "colab": {
          "base_uri": "https://localhost:8080/",
          "height": 283
        },
        "id": "0ZvC4RtGOd9C",
        "outputId": "4d3f28fa-f54d-43fe-a1ff-3fea47f4f6ff"
      },
      "outputs": [
        {
          "output_type": "stream",
          "name": "stdout",
          "text": [
            "Welcome to the Language Translator with Sound in Colab!\n",
            "Enter the source language code (e.g., 'en' for English): en\n",
            "Enter the target language code (e.g., 'fr' for French): de\n",
            "\n",
            "Enter text to translate (or type 'exit' to quit): my name is lalith from sr university \n",
            "Translated text: mein Name ist Lalith von der SR-Universität\n",
            "Audio file created. You can play or download it below.\n"
          ]
        },
        {
          "output_type": "display_data",
          "data": {
            "text/plain": [
              "<IPython.lib.display.Audio object>"
            ],
            "text/html": [
              "\n",
              "                <audio  controls=\"controls\" >\n",
              "                    <source src=\"data:audio/mpeg;base64,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\" type=\"audio/mpeg\" />\n",
              "                    Your browser does not support the audio element.\n",
              "                </audio>\n",
              "              "
            ]
          },
          "metadata": {}
        },
        {
          "output_type": "stream",
          "name": "stdout",
          "text": [
            "Right-click and save the link below to download:\n",
            "[Download the audio file](./translated_audio.mp3)\n",
            "\n",
            "Enter text to translate (or type 'exit' to quit): exit\n",
            "Exiting translator. Goodbye!\n"
          ]
        }
      ],
      "source": [
        "from deep_translator import GoogleTranslator\n",
        "from gtts import gTTS\n",
        "import os\n",
        "from IPython.display import display, Audio  # For Colab\n",
        "\n",
        "def translate_and_speak_colab():\n",
        "    print(\"Welcome to the Language Translator with Sound in Colab!\")\n",
        "\n",
        "    # Get source and target language codes from the user\n",
        "    source_lang = input(\"Enter the source language code (e.g., 'en' for English): \").strip()\n",
        "    target_lang = input(\"Enter the target language code (e.g., 'fr' for French): \").strip()\n",
        "\n",
        "    while True:\n",
        "        # Get the text to translate\n",
        "        text = input(\"\\nEnter text to translate (or type 'exit' to quit): \").strip()\n",
        "        if text.lower() == 'exit':\n",
        "            print(\"Exiting translator. Goodbye!\")\n",
        "            break\n",
        "\n",
        "        try:\n",
        "            # Translate the text\n",
        "            translated = GoogleTranslator(source=source_lang, target=target_lang).translate(text)\n",
        "            print(f\"Translated text: {translated}\")\n",
        "\n",
        "            # Convert the translated text to speech\n",
        "            tts = gTTS(text=translated, lang=target_lang)\n",
        "            audio_file = \"translated_audio.mp3\"\n",
        "            tts.save(audio_file)\n",
        "\n",
        "            # Provide playback and download link in Colab\n",
        "            print(\"Audio file created. You can play or download it below.\")\n",
        "            display(Audio(audio_file))  # Play audio in Colab\n",
        "            print(\"Right-click and save the link below to download:\")\n",
        "            print(f\"[Download the audio file](./{audio_file})\")\n",
        "\n",
        "        except Exception as e:\n",
        "            print(f\"Error: {e}\")\n",
        "\n",
        "# Run the translator\n",
        "if __name__ == \"__main__\":\n",
        "    translate_and_speak_colab()\n",
        "\n"
      ]
    }
  ],
  "metadata": {
    "colab": {
      "provenance": []
    },
    "kernelspec": {
      "display_name": "Python 3",
      "name": "python3"
    },
    "language_info": {
      "name": "python"
    }
  },
  "nbformat": 4,
  "nbformat_minor": 0
}